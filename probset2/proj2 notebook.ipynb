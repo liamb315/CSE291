{
 "metadata": {
  "name": "",
  "signature": "sha256:e929a49e6891708089761bd187eb49621a8c932afb987e9f665b939a9c621adf"
 },
 "nbformat": 3,
 "nbformat_minor": 0,
 "worksheets": [
  {
   "cells": [
    {
     "cell_type": "heading",
     "level": 1,
     "metadata": {},
     "source": [
      "ECE 291 Project 1 \n"
     ]
    },
    {
     "cell_type": "code",
     "collapsed": false,
     "input": [
      "import logisticregression as lr\n",
      "import numpy as np\n",
      "import helper_functions as fn\n",
      "import math_functions as mf\n",
      "import os\n",
      "\n",
      "full_trainarray = np.load(os.path.abspath('data/numpy/trainarray.npy'))\n",
      "full_trainlabel = np.load(os.path.abspath('data/numpy/trainlabel.npy'))\n",
      "full_testarray  = np.load(os.path.abspath('data/numpy/testarray.npy' ))\n",
      "full_testlabel  = np.load(os.path.abspath('data/numpy/testlabel.npy' ))\n",
      "\n",
      "X_train, Y_train = fn.preprocess_data(full_trainarray, full_trainlabel)\n",
      "X_test, Y_test   = fn.preprocess_data(full_testarray, full_testlabel)\n"
     ],
     "language": "python",
     "metadata": {},
     "outputs": [],
     "prompt_number": 2
    },
    {
     "cell_type": "heading",
     "level": 2,
     "metadata": {},
     "source": [
      "Logistic Regression: sklearn"
     ]
    },
    {
     "cell_type": "code",
     "collapsed": false,
     "input": [
      "logreg = lr.LogisticRegression(X_train, Y_train, X_test, Y_test)\n",
      "logreg.fit()\n",
      "predict = logreg.predict()\n",
      "\n",
      "\n"
     ],
     "language": "python",
     "metadata": {},
     "outputs": [],
     "prompt_number": 4
    },
    {
     "cell_type": "heading",
     "level": 3,
     "metadata": {},
     "source": [
      "LaTeX "
     ]
    },
    {
     "cell_type": "code",
     "collapsed": false,
     "input": [
      "%%latex\n",
      "$$\\Huge\\Sigma^{\\large 2}$$"
     ],
     "language": "python",
     "metadata": {},
     "outputs": [
      {
       "latex": [
        "$$\\Huge\\Sigma^{\\large 2}$$"
       ],
       "metadata": {},
       "output_type": "display_data",
       "text": [
        "<IPython.core.display.Latex at 0xa727208>"
       ]
      }
     ],
     "prompt_number": 23
    },
    {
     "cell_type": "heading",
     "level": 2,
     "metadata": {},
     "source": [
      "Logistic Regression: gradient descent"
     ]
    },
    {
     "cell_type": "heading",
     "level": 4,
     "metadata": {},
     "source": [
      "Liam gradient functions"
     ]
    },
    {
     "cell_type": "code",
     "collapsed": false,
     "input": [
      "w = np.random.rand(X_train.shape[1])\n",
      "w = mf.gradient_descent(X_train, Y_train, w, 1)\n"
     ],
     "language": "python",
     "metadata": {},
     "outputs": [
      {
       "output_type": "stream",
       "stream": "stdout",
       "text": [
        "('Log-loss: ', 1370597.9832044265, ' at i = ', 0)\n"
       ]
      },
      {
       "output_type": "stream",
       "stream": "stderr",
       "text": [
        "math_functions.py:8: RuntimeWarning: overflow encountered in exp\n",
        "  val += np.log(1.0 + np.exp(-Y[i]*np.dot(w,X[i])))\n"
       ]
      }
     ],
     "prompt_number": 4
    },
    {
     "cell_type": "heading",
     "level": 4,
     "metadata": {},
     "source": [
      "Matt Gradient Functions"
     ]
    },
    {
     "cell_type": "code",
     "collapsed": false,
     "input": [
      "#Batch gradient descent\n",
      "%debug\n",
      "import gradientdescent as gd\n",
      "gdo=gd.GradientDescent(X_train, Y_train, X_test, Y_test)\n",
      "gdo.batch_gd()\n",
      "gdo.plot_convergence()"
     ],
     "language": "python",
     "metadata": {},
     "outputs": [
      {
       "output_type": "stream",
       "stream": "stdout",
       "text": [
        "> \u001b[1;32m<ipython-input-1-055cf92731bf>\u001b[0m(4)\u001b[0;36m<module>\u001b[1;34m()\u001b[0m\n",
        "\u001b[1;32m      3 \u001b[1;33m\u001b[1;32mimport\u001b[0m \u001b[0mgradientdescent\u001b[0m \u001b[1;32mas\u001b[0m \u001b[0mgd\u001b[0m\u001b[1;33m\u001b[0m\u001b[0m\n",
        "\u001b[0m\u001b[1;32m----> 4 \u001b[1;33m\u001b[0mgdo\u001b[0m\u001b[1;33m=\u001b[0m\u001b[0mgd\u001b[0m\u001b[1;33m.\u001b[0m\u001b[0mGradientDescent\u001b[0m\u001b[1;33m(\u001b[0m\u001b[0mX_train\u001b[0m\u001b[1;33m,\u001b[0m \u001b[0mY_train\u001b[0m\u001b[1;33m,\u001b[0m \u001b[0mX_test\u001b[0m\u001b[1;33m,\u001b[0m \u001b[0mY_test\u001b[0m\u001b[1;33m)\u001b[0m\u001b[1;33m\u001b[0m\u001b[0m\n",
        "\u001b[0m\u001b[1;32m      5 \u001b[1;33m\u001b[0mgdo\u001b[0m\u001b[1;33m.\u001b[0m\u001b[0mbatch_gd\u001b[0m\u001b[1;33m(\u001b[0m\u001b[1;33m)\u001b[0m\u001b[1;33m\u001b[0m\u001b[0m\n",
        "\u001b[0m\n"
       ]
      }
     ]
    },
    {
     "cell_type": "code",
     "collapsed": false,
     "input": [
      "#Stochastic gradient descent\n",
      "gdo.stoch_gd()\n",
      "gdo.plot_convergence()"
     ],
     "language": "python",
     "metadata": {},
     "outputs": [
      {
       "output_type": "stream",
       "stream": "stdout",
       "text": [
        "NOTE: Enter 'c' at the ipdb>  prompt to continue execution.\n",
        "> \u001b[1;32m<string>\u001b[0m(1)\u001b[0;36m<module>\u001b[1;34m()\u001b[0m\n",
        "\n"
       ]
      },
      {
       "name": "stdout",
       "output_type": "stream",
       "stream": "stdout",
       "text": [
        "ipdb> var\n"
       ]
      },
      {
       "output_type": "stream",
       "stream": "stdout",
       "text": [
        "<function var at 0x0000000004256EB8>\n"
       ]
      },
      {
       "name": "stdout",
       "output_type": "stream",
       "stream": "stdout",
       "text": [
        "ipdb> this_log_lkhd\n"
       ]
      },
      {
       "output_type": "stream",
       "stream": "stdout",
       "text": [
        "*** NameError: name 'this_log_lkhd' is not defined\n"
       ]
      }
     ]
    },
    {
     "cell_type": "code",
     "collapsed": false,
     "input": [],
     "language": "python",
     "metadata": {},
     "outputs": [
      {
       "ename": "NameError",
       "evalue": "name 'sigmoid' is not defined",
       "output_type": "pyerr",
       "traceback": [
        "\u001b[1;31m---------------------------------------------------------------------------\u001b[0m\n\u001b[1;31mNameError\u001b[0m                                 Traceback (most recent call last)",
        "\u001b[1;32m<ipython-input-14-07fca909f6d7>\u001b[0m in \u001b[0;36m<module>\u001b[1;34m()\u001b[0m\n\u001b[1;32m----> 1\u001b[1;33m \u001b[0msigmoid\u001b[0m\u001b[1;33m(\u001b[0m\u001b[0mx\u001b[0m\u001b[1;33m)\u001b[0m\u001b[1;33m\u001b[0m\u001b[0m\n\u001b[0m",
        "\u001b[1;31mNameError\u001b[0m: name 'sigmoid' is not defined"
       ]
      }
     ],
     "prompt_number": 14
    }
   ],
   "metadata": {}
  }
 ]
}